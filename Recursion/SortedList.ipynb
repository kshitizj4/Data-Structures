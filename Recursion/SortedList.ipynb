{
 "cells": [
  {
   "cell_type": "code",
   "execution_count": 1,
   "id": "06e84164-72be-40a0-8bdb-f9d6e77b518d",
   "metadata": {},
   "outputs": [],
   "source": [
    "#Check whethere the list is sorted or not"
   ]
  },
  {
   "cell_type": "code",
   "execution_count": 2,
   "id": "0e9ab38d-9db0-4f21-9d02-de667b84692b",
   "metadata": {},
   "outputs": [],
   "source": [
    "def isSorted(a):\n",
    "    l=len(a)\n",
    "    if l==0 or l==1:\n",
    "        return 1\n",
    "    if a[0]>a[1]:\n",
    "        return False\n",
    "    smallerList=a[1:]\n",
    "    isSmallerListSorted=isSorted(smallerList)\n",
    "    if isSmallerListSorted:\n",
    "        return True\n",
    "    else:\n",
    "        return False\n",
    "    "
   ]
  },
  {
   "cell_type": "code",
   "execution_count": 3,
   "id": "d5eb7b8a-9c39-49fb-97f6-54a896c6ad46",
   "metadata": {},
   "outputs": [
    {
     "data": {
      "text/plain": [
       "False"
      ]
     },
     "execution_count": 3,
     "metadata": {},
     "output_type": "execute_result"
    }
   ],
   "source": [
    "a=[1,2,3,40,9,8]\n",
    "isSorted(a)"
   ]
  },
  {
   "cell_type": "code",
   "execution_count": 4,
   "id": "fe52b808-e4fb-45bd-8b97-473f6ab311f0",
   "metadata": {},
   "outputs": [],
   "source": [
    "def isSortedBetter(a,si):\n",
    "    l=len(a)\n",
    "    if si==l-1 or si==l:\n",
    "        return True\n",
    "    if a[si]>a[si+1]:\n",
    "        return False\n",
    "    \n",
    "    isSmallerSorted=isSortedBetter(a,si+1)\n",
    "    return isSmallerSorted"
   ]
  },
  {
   "cell_type": "code",
   "execution_count": 5,
   "id": "78571316-b6d6-413b-87c3-db67645a1187",
   "metadata": {},
   "outputs": [
    {
     "data": {
      "text/plain": [
       "False"
      ]
     },
     "execution_count": 5,
     "metadata": {},
     "output_type": "execute_result"
    }
   ],
   "source": [
    "a=[1,2,3,40,9,8]\n",
    "isSortedBetter(a,0)"
   ]
  },
  {
   "cell_type": "code",
   "execution_count": null,
   "id": "cda7f1ea-248a-4498-929d-e8de5f2ae3dc",
   "metadata": {},
   "outputs": [],
   "source": []
  }
 ],
 "metadata": {
  "kernelspec": {
   "display_name": "Python 3 (ipykernel)",
   "language": "python",
   "name": "python3"
  },
  "language_info": {
   "codemirror_mode": {
    "name": "ipython",
    "version": 3
   },
   "file_extension": ".py",
   "mimetype": "text/x-python",
   "name": "python",
   "nbconvert_exporter": "python",
   "pygments_lexer": "ipython3",
   "version": "3.11.7"
  }
 },
 "nbformat": 4,
 "nbformat_minor": 5
}
