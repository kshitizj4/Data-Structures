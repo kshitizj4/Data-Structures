{
 "cells": [
  {
   "cell_type": "code",
   "execution_count": 1,
   "id": "49b2af9a-a59e-4945-924c-14815d0beba6",
   "metadata": {},
   "outputs": [],
   "source": [
    "#Find first index of a number in list"
   ]
  },
  {
   "cell_type": "code",
   "execution_count": 6,
   "id": "f052eef2-c3b7-47bc-afa8-fc21c0555d0c",
   "metadata": {},
   "outputs": [],
   "source": [
    "def firstIndex(a,x):\n",
    "    l=len(a)\n",
    "    if l==0:\n",
    "        return -1\n",
    "    if a[0]==x:\n",
    "        return 0\n",
    "    smallerList=a[1:]\n",
    "    smallerListOutput=firstIndex(smallerList,x)\n",
    "    if smallerListOutput==-1:\n",
    "        return -1\n",
    "    else:\n",
    "        return smallerListOutput+1"
   ]
  },
  {
   "cell_type": "code",
   "execution_count": 7,
   "id": "2aa2eab9-f429-46e7-bbab-505f0edd892a",
   "metadata": {},
   "outputs": [
    {
     "data": {
      "text/plain": [
       "2"
      ]
     },
     "execution_count": 7,
     "metadata": {},
     "output_type": "execute_result"
    }
   ],
   "source": [
    "a=[1,4,9,10,11]\n",
    "x=9\n",
    "firstIndex(a,x)"
   ]
  },
  {
   "cell_type": "code",
   "execution_count": 8,
   "id": "9209de57-7fab-422e-8316-966edcc51833",
   "metadata": {},
   "outputs": [],
   "source": [
    "def firstIndexB(a,x,si):\n",
    "    l=len(a)\n",
    "    if si==1:\n",
    "        return -1\n",
    "    if a[si]==x:\n",
    "        return si\n",
    "    smallerListOutput=firstIndexB(a,x,si+1)\n",
    "    return smallerListOutput"
   ]
  },
  {
   "cell_type": "code",
   "execution_count": 9,
   "id": "f6773819-7ad6-46f0-b8f4-a09ade23031a",
   "metadata": {},
   "outputs": [
    {
     "data": {
      "text/plain": [
       "-1"
      ]
     },
     "execution_count": 9,
     "metadata": {},
     "output_type": "execute_result"
    }
   ],
   "source": [
    "a=[1,4,9,10,11]\n",
    "x=3\n",
    "firstIndexB(a,x,0)"
   ]
  },
  {
   "cell_type": "code",
   "execution_count": 10,
   "id": "19010225-597d-4564-80f0-d6c155622246",
   "metadata": {},
   "outputs": [],
   "source": [
    "#Find the last index of number"
   ]
  },
  {
   "cell_type": "code",
   "execution_count": 14,
   "id": "7bda97cb-2e28-4614-a4fb-2bcce2810ecc",
   "metadata": {},
   "outputs": [],
   "source": [
    "def lastIndex(a,x):\n",
    "    l=len(a)\n",
    "    if l==0:\n",
    "        return -1\n",
    "    smallerList=a[1:]\n",
    "    smallerListOutput=lastIndex(smallerList,x)\n",
    "    if smallerListOutput!=-1:\n",
    "        return smallerListOutput+1\n",
    "    else:\n",
    "        if a[0]==x:\n",
    "            return 0\n",
    "        else:\n",
    "            return -1"
   ]
  },
  {
   "cell_type": "code",
   "execution_count": 15,
   "id": "ff0e8f67-084b-412c-8999-44e195d05689",
   "metadata": {},
   "outputs": [
    {
     "data": {
      "text/plain": [
       "5"
      ]
     },
     "execution_count": 15,
     "metadata": {},
     "output_type": "execute_result"
    }
   ],
   "source": [
    "a=[1,4,9,10,11,4,5]\n",
    "x=4\n",
    "lastIndex(a,x)"
   ]
  },
  {
   "cell_type": "code",
   "execution_count": 22,
   "id": "6d09f749-6424-4e4e-920d-0d4689ca41ca",
   "metadata": {},
   "outputs": [],
   "source": [
    "def lastIndexB(a,x,si):\n",
    "    l=len(a)\n",
    "    if si==l:\n",
    "        return -1\n",
    "    \n",
    "    smallerListOutput=lastIndexB(a,x,si+1)\n",
    "    if smallerListOutput!=-1:\n",
    "        return smallerListOutput\n",
    "    else:\n",
    "        if a[si]==x:\n",
    "            return si\n",
    "        else:\n",
    "            return -1"
   ]
  },
  {
   "cell_type": "code",
   "execution_count": 23,
   "id": "7306ac53-64db-48ef-a6da-9b115811680c",
   "metadata": {},
   "outputs": [
    {
     "data": {
      "text/plain": [
       "5"
      ]
     },
     "execution_count": 23,
     "metadata": {},
     "output_type": "execute_result"
    }
   ],
   "source": [
    "a=[1,4,9,10,11,4,5]\n",
    "x=4\n",
    "lastIndexB(a,x,0)"
   ]
  },
  {
   "cell_type": "code",
   "execution_count": null,
   "id": "58bb0d13-51a1-4b9b-a33d-6fa2560eb9f9",
   "metadata": {},
   "outputs": [],
   "source": []
  }
 ],
 "metadata": {
  "kernelspec": {
   "display_name": "Python 3 (ipykernel)",
   "language": "python",
   "name": "python3"
  },
  "language_info": {
   "codemirror_mode": {
    "name": "ipython",
    "version": 3
   },
   "file_extension": ".py",
   "mimetype": "text/x-python",
   "name": "python",
   "nbconvert_exporter": "python",
   "pygments_lexer": "ipython3",
   "version": "3.11.7"
  }
 },
 "nbformat": 4,
 "nbformat_minor": 5
}
