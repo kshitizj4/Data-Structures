{
 "cells": [
  {
   "cell_type": "code",
   "execution_count": 1,
   "id": "cd1fa96d-abaa-4d66-a313-3a722b76eea8",
   "metadata": {},
   "outputs": [],
   "source": [
    "def tower_hanoi(n,a,b,c):\n",
    "    if n==1:\n",
    "        print(\"Move 1st disk from\", a,\" to \",c)\n",
    "        return\n",
    "    tower_hanoi(n-1,a,c,b)\n",
    "    print(\"Move \",n,\" th disk from\", a,\" to \",c)\n",
    "    tower_hanoi(n-1,b,a,c)\n",
    "    "
   ]
  },
  {
   "cell_type": "code",
   "execution_count": 2,
   "id": "83fbbae1-9b07-4d33-b1e0-e90e991148bc",
   "metadata": {},
   "outputs": [
    {
     "name": "stdout",
     "output_type": "stream",
     "text": [
      "Move 1st disk from s  to  h\n",
      "Move  2  th disk from s  to  d\n",
      "Move 1st disk from h  to  d\n",
      "Move  3  th disk from s  to  h\n",
      "Move 1st disk from d  to  s\n",
      "Move  2  th disk from d  to  h\n",
      "Move 1st disk from s  to  h\n",
      "Move  4  th disk from s  to  d\n",
      "Move 1st disk from h  to  d\n",
      "Move  2  th disk from h  to  s\n",
      "Move 1st disk from d  to  s\n",
      "Move  3  th disk from h  to  d\n",
      "Move 1st disk from s  to  h\n",
      "Move  2  th disk from s  to  d\n",
      "Move 1st disk from h  to  d\n"
     ]
    }
   ],
   "source": [
    "tower_hanoi(4,\"s\",\"h\",\"d\")"
   ]
  },
  {
   "cell_type": "code",
   "execution_count": null,
   "id": "68b7cab4-157e-42ee-9de3-7ef359dab331",
   "metadata": {},
   "outputs": [],
   "source": []
  }
 ],
 "metadata": {
  "kernelspec": {
   "display_name": "Python 3 (ipykernel)",
   "language": "python",
   "name": "python3"
  },
  "language_info": {
   "codemirror_mode": {
    "name": "ipython",
    "version": 3
   },
   "file_extension": ".py",
   "mimetype": "text/x-python",
   "name": "python",
   "nbconvert_exporter": "python",
   "pygments_lexer": "ipython3",
   "version": "3.11.7"
  }
 },
 "nbformat": 4,
 "nbformat_minor": 5
}
