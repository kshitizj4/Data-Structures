{
 "cells": [
  {
   "cell_type": "code",
   "execution_count": 1,
   "id": "bfc80645-ff16-4a8c-960e-174fdd74edeb",
   "metadata": {},
   "outputs": [],
   "source": [
    "#Fibonacci number"
   ]
  },
  {
   "cell_type": "code",
   "execution_count": 4,
   "id": "f749c40c-8d93-41f3-8cb6-946b0cf103d4",
   "metadata": {},
   "outputs": [],
   "source": [
    "def fib(n):\n",
    "    if n==2 or n==1:\n",
    "        return 1\n",
    "    return fib(n-1)+fib(n-2)   \n",
    "    "
   ]
  },
  {
   "cell_type": "code",
   "execution_count": 5,
   "id": "caf27c3c-8a45-49d9-bd1e-25f4e38af7f0",
   "metadata": {},
   "outputs": [
    {
     "data": {
      "text/plain": [
       "2"
      ]
     },
     "execution_count": 5,
     "metadata": {},
     "output_type": "execute_result"
    }
   ],
   "source": [
    "fib(3)"
   ]
  },
  {
   "cell_type": "code",
   "execution_count": null,
   "id": "206a62b8-9384-4cff-a106-501b2aff84d3",
   "metadata": {},
   "outputs": [],
   "source": []
  }
 ],
 "metadata": {
  "kernelspec": {
   "display_name": "Python 3 (ipykernel)",
   "language": "python",
   "name": "python3"
  },
  "language_info": {
   "codemirror_mode": {
    "name": "ipython",
    "version": 3
   },
   "file_extension": ".py",
   "mimetype": "text/x-python",
   "name": "python",
   "nbconvert_exporter": "python",
   "pygments_lexer": "ipython3",
   "version": "3.11.7"
  }
 },
 "nbformat": 4,
 "nbformat_minor": 5
}
