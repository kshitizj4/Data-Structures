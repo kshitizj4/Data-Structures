{
 "cells": [
  {
   "cell_type": "code",
   "execution_count": 5,
   "id": "ea576ed0-f4e9-4ccb-8df6-e62ab181e2cb",
   "metadata": {},
   "outputs": [],
   "source": [
    "def quickSort(a,si,ei):\n",
    "    if si>=ei:\n",
    "        return\n",
    "    pivot_index=partition(a,si,ei)\n",
    "    quickSort(a,si,pivot_index-1)\n",
    "    quickSort(a,pivot_index+1,ei)"
   ]
  },
  {
   "cell_type": "code",
   "execution_count": 8,
   "id": "fa036be1-956f-41f0-9737-d329f526b8cb",
   "metadata": {},
   "outputs": [],
   "source": [
    "def partition(a,si,ei):\n",
    "    pivot=a[si]\n",
    "    #find number of elements smaller than pivot\n",
    "    c=0\n",
    "    for i in range(si,ei+1):\n",
    "        if a[i]<pivot:\n",
    "            c=c+1\n",
    "    a[si+c],a[si]=a[si],a[si+c]\n",
    "    pivot_index=si+c\n",
    "    \n",
    "    i=si\n",
    "    j=ei\n",
    "    while i<j:\n",
    "        if a[i]<pivot:\n",
    "            i=i+1\n",
    "        elif a[j]>=pivot:\n",
    "            j=j-1\n",
    "        else:\n",
    "            a[i],a[j]=a[j],a[i]\n",
    "            i=i+1\n",
    "            j=j-1\n",
    "    return pivot_index\n",
    "            "
   ]
  },
  {
   "cell_type": "code",
   "execution_count": 9,
   "id": "d755de1d-5710-42e9-8492-69bfd9748593",
   "metadata": {},
   "outputs": [],
   "source": [
    "a=[9,2,7,1,5,11,16,10]\n",
    "quickSort(a,0,len(a)-1)"
   ]
  },
  {
   "cell_type": "code",
   "execution_count": 10,
   "id": "1216fbbe-59f0-4a5e-a40e-cf6813e41c5d",
   "metadata": {},
   "outputs": [
    {
     "data": {
      "text/plain": [
       "[1, 2, 5, 7, 9, 10, 11, 16]"
      ]
     },
     "execution_count": 10,
     "metadata": {},
     "output_type": "execute_result"
    }
   ],
   "source": [
    "a"
   ]
  },
  {
   "cell_type": "code",
   "execution_count": null,
   "id": "8d475eb8-cbc9-4227-92ab-1f1c511cb906",
   "metadata": {},
   "outputs": [],
   "source": []
  }
 ],
 "metadata": {
  "kernelspec": {
   "display_name": "Python 3 (ipykernel)",
   "language": "python",
   "name": "python3"
  },
  "language_info": {
   "codemirror_mode": {
    "name": "ipython",
    "version": 3
   },
   "file_extension": ".py",
   "mimetype": "text/x-python",
   "name": "python",
   "nbconvert_exporter": "python",
   "pygments_lexer": "ipython3",
   "version": "3.11.7"
  }
 },
 "nbformat": 4,
 "nbformat_minor": 5
}
