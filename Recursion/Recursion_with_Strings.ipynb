{
 "cells": [
  {
   "cell_type": "code",
   "execution_count": 1,
   "id": "1d360dfa-738a-431d-8c93-bb1a70562e89",
   "metadata": {},
   "outputs": [],
   "source": [
    "#Replace all occurences of one charcter with another character"
   ]
  },
  {
   "cell_type": "code",
   "execution_count": 2,
   "id": "69cece77-55b6-43d6-a5a0-cc9cdb79740b",
   "metadata": {},
   "outputs": [],
   "source": [
    "def replaceChar(s,a,b):\n",
    "    if len(s)==0:\n",
    "        return s\n",
    "    smallOutput=replaceChar(s[1:],a,b)\n",
    "    if s[0]==a:\n",
    "        return b+smallOutput\n",
    "    else:\n",
    "        return s[0]+smallOutput"
   ]
  },
  {
   "cell_type": "code",
   "execution_count": 3,
   "id": "99ccfe78-9bf0-43f7-a842-3d69f3104bc9",
   "metadata": {},
   "outputs": [
    {
     "data": {
      "text/plain": [
       "'abeeddeab'"
      ]
     },
     "execution_count": 3,
     "metadata": {},
     "output_type": "execute_result"
    }
   ],
   "source": [
    "replaceChar(\"abccddcab\",'c','e')"
   ]
  },
  {
   "cell_type": "code",
   "execution_count": 4,
   "id": "a928c403-1f7f-45a5-9c4e-a58f5f6650d4",
   "metadata": {},
   "outputs": [],
   "source": [
    "#Given a string, compute recursively a new string where all 'x' chars have been removed."
   ]
  },
  {
   "cell_type": "code",
   "execution_count": 9,
   "id": "3650e7f0-e3ec-40e2-a488-43259b6d59f1",
   "metadata": {},
   "outputs": [],
   "source": [
    "def removeX(s,x):\n",
    "    if len(s)==0:\n",
    "        return s\n",
    "    if s[0]==x:\n",
    "        return removeX(s[1:],x)\n",
    "    return s[0]+removeX(s[1:],x)\n",
    "        \n",
    "    "
   ]
  },
  {
   "cell_type": "code",
   "execution_count": 10,
   "id": "05437a21-50d9-41bc-ab4a-f9d2f3b8571d",
   "metadata": {},
   "outputs": [
    {
     "data": {
      "text/plain": [
       "'ahdjk'"
      ]
     },
     "execution_count": 10,
     "metadata": {},
     "output_type": "execute_result"
    }
   ],
   "source": [
    "removeX(\"asshdjk\",\"s\")"
   ]
  },
  {
   "cell_type": "code",
   "execution_count": 11,
   "id": "3d5a06c9-acd2-4c72-a3f7-1ba3bec42ede",
   "metadata": {},
   "outputs": [],
   "source": [
    "#replace pi"
   ]
  },
  {
   "cell_type": "code",
   "execution_count": 12,
   "id": "585843ac-4793-46f6-9619-dc2b9fd99d3c",
   "metadata": {},
   "outputs": [],
   "source": [
    "def replacepi(s):\n",
    "    if len(s)==0:\n",
    "        return s\n",
    "    if s[0]=='p' and s[1]=='i':\n",
    "        smallOutput=replacepi(s[2:])\n",
    "        return \"3.14\"+smallOutput\n",
    "    else:\n",
    "        smallOutput=replacepi(s[1:])\n",
    "        return s[0]+smallOutput"
   ]
  },
  {
   "cell_type": "code",
   "execution_count": 13,
   "id": "133299db-c9c5-4b0d-9d75-af85dff6500e",
   "metadata": {},
   "outputs": [
    {
     "data": {
      "text/plain": [
       "'pp3.143.14iii3.14'"
      ]
     },
     "execution_count": 13,
     "metadata": {},
     "output_type": "execute_result"
    }
   ],
   "source": [
    "replacepi(\"pppipiiiipi\")"
   ]
  },
  {
   "cell_type": "code",
   "execution_count": 14,
   "id": "3a66796d-41e2-429b-97fb-d27e20bd0a34",
   "metadata": {},
   "outputs": [],
   "source": [
    "#Remove Duplicates"
   ]
  },
  {
   "cell_type": "code",
   "execution_count": 15,
   "id": "55813cfb-4bb6-4d81-97ff-de12e7376f71",
   "metadata": {},
   "outputs": [],
   "source": [
    "def removeDuplicates(s):\n",
    "    if len(s)==1:\n",
    "        return s\n",
    "    s2=removeDuplicates(s[1:])\n",
    "    if s[0]==s[1]:\n",
    "        return s2\n",
    "    else:\n",
    "        return s[0]+s2"
   ]
  },
  {
   "cell_type": "code",
   "execution_count": 16,
   "id": "de867a0d-333e-4e05-8145-d48c03e8dfd3",
   "metadata": {},
   "outputs": [
    {
     "data": {
      "text/plain": [
       "'cghrd'"
      ]
     },
     "execution_count": 16,
     "metadata": {},
     "output_type": "execute_result"
    }
   ],
   "source": [
    "removeDuplicates(\"ccghhrd\")"
   ]
  },
  {
   "cell_type": "code",
   "execution_count": null,
   "id": "a5719d1e-3a87-4952-b88a-b0700917a6c0",
   "metadata": {},
   "outputs": [],
   "source": []
  }
 ],
 "metadata": {
  "kernelspec": {
   "display_name": "Python 3 (ipykernel)",
   "language": "python",
   "name": "python3"
  },
  "language_info": {
   "codemirror_mode": {
    "name": "ipython",
    "version": 3
   },
   "file_extension": ".py",
   "mimetype": "text/x-python",
   "name": "python",
   "nbconvert_exporter": "python",
   "pygments_lexer": "ipython3",
   "version": "3.11.7"
  }
 },
 "nbformat": 4,
 "nbformat_minor": 5
}
