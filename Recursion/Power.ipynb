{
 "cells": [
  {
   "cell_type": "code",
   "execution_count": 1,
   "id": "c5b02ce8-f919-4f05-9d42-5b8dcfcaa5fd",
   "metadata": {},
   "outputs": [],
   "source": [
    "#Write a program to find x to the power n (i.e. x^n). Take x and n from the user. You need to print the answer."
   ]
  },
  {
   "cell_type": "code",
   "execution_count": 4,
   "id": "a78d4e12-461b-4f68-800e-d3dfea83b785",
   "metadata": {},
   "outputs": [],
   "source": [
    "def power(x,n):\n",
    "    if n==0 :\n",
    "        return 1\n",
    "    if n==1 :\n",
    "        return x\n",
    "    return x*power(x,n-1)"
   ]
  },
  {
   "cell_type": "code",
   "execution_count": 5,
   "id": "0b075a6c-a306-4626-964b-3957498e9b96",
   "metadata": {},
   "outputs": [
    {
     "data": {
      "text/plain": [
       "16"
      ]
     },
     "execution_count": 5,
     "metadata": {},
     "output_type": "execute_result"
    }
   ],
   "source": [
    "power(4,2)"
   ]
  },
  {
   "cell_type": "code",
   "execution_count": null,
   "id": "52fb7b3b-2e45-494b-8aed-7e43a651608c",
   "metadata": {},
   "outputs": [],
   "source": []
  }
 ],
 "metadata": {
  "kernelspec": {
   "display_name": "Python 3 (ipykernel)",
   "language": "python",
   "name": "python3"
  },
  "language_info": {
   "codemirror_mode": {
    "name": "ipython",
    "version": 3
   },
   "file_extension": ".py",
   "mimetype": "text/x-python",
   "name": "python",
   "nbconvert_exporter": "python",
   "pygments_lexer": "ipython3",
   "version": "3.11.7"
  }
 },
 "nbformat": 4,
 "nbformat_minor": 5
}
